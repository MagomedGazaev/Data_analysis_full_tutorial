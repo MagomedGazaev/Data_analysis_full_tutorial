{
 "cells": [
  {
   "cell_type": "code",
   "execution_count": 2,
   "id": "initial_id",
   "metadata": {
    "collapsed": true,
    "ExecuteTime": {
     "end_time": "2023-11-16T12:11:32.911783Z",
     "start_time": "2023-11-16T12:11:32.419544Z"
    }
   },
   "outputs": [],
   "source": [
    "import numpy as np\n",
    "import pandas as pd"
   ]
  },
  {
   "cell_type": "code",
   "execution_count": 3,
   "outputs": [
    {
     "data": {
      "text/plain": "           lat       lng        country  target\n0      35.6850  139.7514          Japan       0\n1      40.6943  -73.9249  United States       1\n2      19.4424  -99.1310         Mexico       0\n3      19.0170   72.8570          India       0\n4     -23.5587  -46.6250         Brazil       0\n...        ...       ...            ...     ...\n15488  62.5333  -42.2167      Greenland       0\n15489  51.3894   30.0989        Ukraine       0\n15490  69.6510  162.3336         Russia       0\n15491  74.0165  111.5100         Russia       0\n15492  61.1333 -100.8833         Canada       0\n\n[15493 rows x 4 columns]",
      "text/html": "<div>\n<style scoped>\n    .dataframe tbody tr th:only-of-type {\n        vertical-align: middle;\n    }\n\n    .dataframe tbody tr th {\n        vertical-align: top;\n    }\n\n    .dataframe thead th {\n        text-align: right;\n    }\n</style>\n<table border=\"1\" class=\"dataframe\">\n  <thead>\n    <tr style=\"text-align: right;\">\n      <th></th>\n      <th>lat</th>\n      <th>lng</th>\n      <th>country</th>\n      <th>target</th>\n    </tr>\n  </thead>\n  <tbody>\n    <tr>\n      <th>0</th>\n      <td>35.6850</td>\n      <td>139.7514</td>\n      <td>Japan</td>\n      <td>0</td>\n    </tr>\n    <tr>\n      <th>1</th>\n      <td>40.6943</td>\n      <td>-73.9249</td>\n      <td>United States</td>\n      <td>1</td>\n    </tr>\n    <tr>\n      <th>2</th>\n      <td>19.4424</td>\n      <td>-99.1310</td>\n      <td>Mexico</td>\n      <td>0</td>\n    </tr>\n    <tr>\n      <th>3</th>\n      <td>19.0170</td>\n      <td>72.8570</td>\n      <td>India</td>\n      <td>0</td>\n    </tr>\n    <tr>\n      <th>4</th>\n      <td>-23.5587</td>\n      <td>-46.6250</td>\n      <td>Brazil</td>\n      <td>0</td>\n    </tr>\n    <tr>\n      <th>...</th>\n      <td>...</td>\n      <td>...</td>\n      <td>...</td>\n      <td>...</td>\n    </tr>\n    <tr>\n      <th>15488</th>\n      <td>62.5333</td>\n      <td>-42.2167</td>\n      <td>Greenland</td>\n      <td>0</td>\n    </tr>\n    <tr>\n      <th>15489</th>\n      <td>51.3894</td>\n      <td>30.0989</td>\n      <td>Ukraine</td>\n      <td>0</td>\n    </tr>\n    <tr>\n      <th>15490</th>\n      <td>69.6510</td>\n      <td>162.3336</td>\n      <td>Russia</td>\n      <td>0</td>\n    </tr>\n    <tr>\n      <th>15491</th>\n      <td>74.0165</td>\n      <td>111.5100</td>\n      <td>Russia</td>\n      <td>0</td>\n    </tr>\n    <tr>\n      <th>15492</th>\n      <td>61.1333</td>\n      <td>-100.8833</td>\n      <td>Canada</td>\n      <td>0</td>\n    </tr>\n  </tbody>\n</table>\n<p>15493 rows × 4 columns</p>\n</div>"
     },
     "execution_count": 3,
     "metadata": {},
     "output_type": "execute_result"
    }
   ],
   "source": [
    "#Импортируем данные и выявим требования к задаче\n",
    "\n",
    "df = pd.read_csv('worldcities.csv')\n",
    "df"
   ],
   "metadata": {
    "collapsed": false,
    "ExecuteTime": {
     "end_time": "2023-11-16T12:11:34.067902Z",
     "start_time": "2023-11-16T12:11:34.030613Z"
    }
   },
   "id": "a40fe44946979107"
  },
  {
   "cell_type": "code",
   "execution_count": 4,
   "outputs": [],
   "source": [
    "unique_classes = df['target'].value_counts()"
   ],
   "metadata": {
    "collapsed": false,
    "ExecuteTime": {
     "end_time": "2023-11-16T12:11:36.337074Z",
     "start_time": "2023-11-16T12:11:36.325630Z"
    }
   },
   "id": "e73f84b80f1ade6a"
  },
  {
   "cell_type": "code",
   "execution_count": 5,
   "outputs": [
    {
     "data": {
      "text/plain": "target\n0    8165\n1    7328\nName: count, dtype: int64"
     },
     "execution_count": 5,
     "metadata": {},
     "output_type": "execute_result"
    }
   ],
   "source": [
    "unique_classes\n",
    "\n",
    "#На основании этого делаем вывод, что нам нужно построить нейросеть, которая сможет с требуемой точностью выполнять бинарную классификацию"
   ],
   "metadata": {
    "collapsed": false,
    "ExecuteTime": {
     "end_time": "2023-11-16T12:11:38.325465Z",
     "start_time": "2023-11-16T12:11:38.316371Z"
    }
   },
   "id": "1af12c19efba3505"
  },
  {
   "cell_type": "code",
   "execution_count": 6,
   "outputs": [
    {
     "data": {
      "text/plain": "lat        0\nlng        0\ncountry    0\ntarget     0\ndtype: int64"
     },
     "execution_count": 6,
     "metadata": {},
     "output_type": "execute_result"
    }
   ],
   "source": [
    "df.isnull().sum()\n",
    "\n",
    "#Проверили на пропуски, данные буквально готовы к формированию тренировочного и тестового датасета для нейросети."
   ],
   "metadata": {
    "collapsed": false,
    "ExecuteTime": {
     "end_time": "2023-11-16T12:11:40.482441Z",
     "start_time": "2023-11-16T12:11:40.473180Z"
    }
   },
   "id": "bf36d591fcc1179f"
  },
  {
   "cell_type": "code",
   "execution_count": 7,
   "outputs": [],
   "source": [
    "# Напишем базовую архитектуру: многослойный персептрон \n",
    "\n",
    "import torch\n",
    "import torch.nn as nn\n",
    "import torch.nn.functional as F\n",
    "import torch.optim as optim\n",
    "\n",
    "class DeepMLP(nn.Module):\n",
    "    def __init__(self):\n",
    "        super(DeepMLP, self).__init__()\n",
    "        self.fc1 = nn.Linear(2, 64)  # Предполагается, что у нас 2 входных признака: широта и долгота\n",
    "        self.fc2 = nn.Linear(64, 64) #Hidden Layer\n",
    "        self.fc3 = nn.Linear(64, 1) #Output layer; 1 выход, осуществляющий бинарную классификацию\n",
    "\n",
    "    def forward(self, x): # Метод для прямого распространения (нейронное прогнозирование)\n",
    "        x = F.relu(self.fc1(x)) # Функция активации на первом слое\n",
    "        x = F.relu(self.fc2(x)) # Функция активации на скрытом слое\n",
    "        x = torch.sigmoid(self.fc3(x))  # Сигмоидная функция активации на выходном слое для бинарной классификации\n",
    "        return x"
   ],
   "metadata": {
    "collapsed": false,
    "ExecuteTime": {
     "end_time": "2023-11-16T12:11:44.067256Z",
     "start_time": "2023-11-16T12:11:43.083814Z"
    }
   },
   "id": "7d80bf050c760625"
  },
  {
   "cell_type": "code",
   "execution_count": 8,
   "outputs": [],
   "source": [
    "model = DeepMLP() #Создаём экземпляр модельки (персептрона)"
   ],
   "metadata": {
    "collapsed": false,
    "ExecuteTime": {
     "end_time": "2023-11-16T12:11:45.515955Z",
     "start_time": "2023-11-16T12:11:45.509880Z"
    }
   },
   "id": "944202f30114e922"
  },
  {
   "cell_type": "code",
   "execution_count": 9,
   "outputs": [],
   "source": [
    "# Определение функции потерь и оптимизатора\n",
    "criterion = nn.BCELoss()  # Binary Cross Entropy Loss (функция потерь)\n",
    "optimizer = optim.Adam(model.parameters(), lr=0.001) #Алгоритм, который будет обновлять наши веса с той степенью небрежности, что указана в learning rate, руководствуясь вычисленными градиентами. "
   ],
   "metadata": {
    "collapsed": false,
    "ExecuteTime": {
     "end_time": "2023-11-16T12:11:47.833463Z",
     "start_time": "2023-11-16T12:11:47.623336Z"
    }
   },
   "id": "390be00b9ceea6a8"
  },
  {
   "cell_type": "code",
   "execution_count": 11,
   "outputs": [
    {
     "name": "stdout",
     "output_type": "stream",
     "text": [
      "(9915, 2) (2479, 2) (3099, 2) (9915,) (2479,) (3099,)\n"
     ]
    }
   ],
   "source": [
    "# Для начала разделим данные на признаки и классовые метки \n",
    "X = df[['lat', 'lng']]  # Признаки: широта и долгота\n",
    "y = df['target']  # Метка: принадлежности к классу\n",
    "\n",
    "# Теперь разделим данные на тренировочный и тестовый датасеты\n",
    "from sklearn.model_selection import train_test_split\n",
    "import torch\n",
    "from torch.utils.data import DataLoader, TensorDataset\n",
    "\n",
    "# Сначала разделим данные на тренировочные (80%) и тестовые (20%)\n",
    "X_train, X_test, y_train, y_test = train_test_split(X, y, test_size=0.2, random_state=42)\n",
    "\n",
    "# Теперь разделим тренировочные данные на тренировочные (80%) и валидационные (20%)\n",
    "X_train, X_val, y_train, y_val = train_test_split(X_train, y_train, test_size=0.2, random_state=42)\n",
    "\n",
    "# Проверим размеры полученных датасетов\n",
    "print(X_train.shape, X_val.shape, X_test.shape, y_train.shape, y_val.shape, y_test.shape)\n",
    "\n",
    "# Преобразование данных в тензоры PyTorch\n",
    "X_train_tensor = torch.tensor(X_train.values, dtype=torch.float32)\n",
    "y_train_tensor = torch.tensor(y_train.values, dtype=torch.float32)\n",
    "X_val_tensor = torch.tensor(X_val.values, dtype=torch.float32)\n",
    "y_val_tensor = torch.tensor(y_val.values, dtype=torch.float32)\n",
    "X_test_tensor = torch.tensor(X_test.values, dtype=torch.float32)\n",
    "y_test_tensor = torch.tensor(y_test.values, dtype=torch.float32)\n",
    "\n",
    "# Создание наборов данных для PyTorch\n",
    "train_dataset = TensorDataset(X_train_tensor, y_train_tensor)\n",
    "val_dataset = TensorDataset(X_val_tensor, y_val_tensor)\n",
    "test_dataset = TensorDataset(X_test_tensor, y_test_tensor)\n",
    "\n",
    "# Создание DataLoader'ов для тренировочных, валидационных и тестовых наборов данных\n",
    "train_loader = DataLoader(dataset=train_dataset, batch_size=64, shuffle=True)\n",
    "val_loader = DataLoader(dataset=val_dataset, batch_size=64, shuffle=False)\n",
    "test_loader = DataLoader(dataset=test_dataset, batch_size=64, shuffle=False)"
   ],
   "metadata": {
    "collapsed": false,
    "ExecuteTime": {
     "end_time": "2023-11-16T12:12:43.524131Z",
     "start_time": "2023-11-16T12:12:43.510866Z"
    }
   },
   "id": "d3d1d6d3667cfdf"
  },
  {
   "cell_type": "code",
   "execution_count": 12,
   "outputs": [],
   "source": [
    "from tqdm import tqdm "
   ],
   "metadata": {
    "collapsed": false,
    "ExecuteTime": {
     "end_time": "2023-11-16T12:12:55.267185Z",
     "start_time": "2023-11-16T12:12:55.261643Z"
    }
   },
   "id": "6848e23baad9d4f"
  },
  {
   "cell_type": "code",
   "execution_count": 13,
   "outputs": [
    {
     "name": "stderr",
     "output_type": "stream",
     "text": [
      "Training epochs: 100%|██████████| 500/500 [00:38<00:00, 13.04it/s]\n"
     ]
    }
   ],
   "source": [
    "# Обучение модели\n",
    "num_epochs = 500  # Кол-во проходов по всему датасету\n",
    "\n",
    "for epoch in tqdm(range(num_epochs), desc='Training epochs'):\n",
    "    for inputs, labels in train_loader: #итерируемся по признакам и меткам\n",
    "        optimizer.zero_grad()  # Обнуление градиентов\n",
    "        outputs = model(inputs)  # Прямой проход, нейронное прогнозирование\n",
    "        loss = criterion(outputs, labels.view(-1, 1))  # Вычисление потерь, в результате прогноза \n",
    "        loss.backward()  # Обратное распространение для вычисления градиентов (механики изменения функции потер, \n",
    "        # в результате изменения её аргумента - весов)\n",
    "        optimizer.step()  # Обновление весов оптимизатором, на основе подсчитанных градиентов\n",
    "\n",
    "# После обучения, модели можно использовать для предсказания и оценки точности"
   ],
   "metadata": {
    "collapsed": false,
    "ExecuteTime": {
     "end_time": "2023-11-16T12:13:36.178129Z",
     "start_time": "2023-11-16T12:12:57.800961Z"
    }
   },
   "id": "e837416681869636"
  },
  {
   "cell_type": "code",
   "execution_count": 14,
   "outputs": [
    {
     "name": "stdout",
     "output_type": "stream",
     "text": [
      "Validation Loss: 0.0159\n"
     ]
    }
   ],
   "source": [
    "#Валидация модели в виде функции (вызываемого метода)\n",
    "\n",
    "model.eval()  # Переключение модели в режим оценки\n",
    "total_val_loss = 0\n",
    "total_val_samples = 0\n",
    "\n",
    "with torch.no_grad():  # Отключение вычисления градиентов для валидации\n",
    "    for inputs, labels in val_loader:\n",
    "        outputs = model(inputs)\n",
    "        val_loss = criterion(outputs, labels.view(-1, 1))\n",
    "        total_val_loss += val_loss.item() * inputs.size(0)\n",
    "        total_val_samples += inputs.size(0)\n",
    "\n",
    "average_val_loss = total_val_loss / total_val_samples\n",
    "print(f\"Validation Loss: {average_val_loss:.4f}\")"
   ],
   "metadata": {
    "collapsed": false,
    "ExecuteTime": {
     "end_time": "2023-11-16T12:13:41.032518Z",
     "start_time": "2023-11-16T12:13:41.001783Z"
    }
   },
   "id": "9d087e0129481d4b"
  },
  {
   "cell_type": "code",
   "execution_count": 15,
   "outputs": [
    {
     "name": "stdout",
     "output_type": "stream",
     "text": [
      "Sensitivity: 0.9972202918693537, Specificity: 0.9885542168674699, p: 0.9928872543684117\n"
     ]
    }
   ],
   "source": [
    "from sklearn.metrics import confusion_matrix\n",
    "\n",
    "# Теперь мы вычислим предсказания на тренировочном наборе данных\n",
    "model.eval()  # Переключаем модель в режим оценки\n",
    "with torch.no_grad():  # Отключаем вычисление градиентов\n",
    "    outputs = model(X_test_tensor)\n",
    "    predictions = outputs.round()  # Округляем выходные данные для получения бинарных предсказаний\n",
    "\n",
    "# Преобразуем предсказания и истинные метки в формат NumPy для использования в sklearn\n",
    "y_pred_np = predictions.numpy()\n",
    "y_test_np = y_test_tensor.numpy()\n",
    "\n",
    "# Вычисляем матрицу ошибок\n",
    "conf_matrix = confusion_matrix(y_test_np, y_pred_np)\n",
    "TP = conf_matrix[1, 1]\n",
    "TN = conf_matrix[0, 0]\n",
    "FP = conf_matrix[0, 1]\n",
    "FN = conf_matrix[1, 0]\n",
    "\n",
    "# Вычисляем чувствительность и специфичность\n",
    "sensitivity = TP / (TP + FN)\n",
    "specificity = TN / (TN + FP)\n",
    "\n",
    "# Вычисляем метрику p\n",
    "p = (sensitivity + specificity) / 2\n",
    "print(f\"Sensitivity: {sensitivity}, Specificity: {specificity}, p: {p}\")"
   ],
   "metadata": {
    "collapsed": false,
    "ExecuteTime": {
     "end_time": "2023-11-16T12:13:53.019784Z",
     "start_time": "2023-11-16T12:13:53.013852Z"
    }
   },
   "id": "f7533aea6344cc7a"
  },
  {
   "cell_type": "code",
   "execution_count": 16,
   "outputs": [
    {
     "data": {
      "text/plain": "<Figure size 640x480 with 1 Axes>",
      "image/png": "[encoded data removed]"
     },
     "metadata": {},
     "output_type": "display_data"
    }
   ],
   "source": [
    "import matplotlib.pyplot as plt\n",
    "from sklearn.metrics import confusion_matrix\n",
    "\n",
    "# Предположим, что y_test_np - это истинные метки классов, а y_pred_np - предсказанные моделью\n",
    "conf_matrix = confusion_matrix(y_test_np, y_pred_np)\n",
    "TP = conf_matrix[1, 1]\n",
    "FN = conf_matrix[1, 0]\n",
    "\n",
    "# Создание диаграммы\n",
    "labels = ['True Positive', 'False Negative']\n",
    "values = [TP, FN]\n",
    "\n",
    "plt.bar(labels, values, color=['blue', 'orange'])\n",
    "plt.title('Classification Outcomes for Class 1')\n",
    "plt.xlabel('Outcome')\n",
    "plt.ylabel('Frequency')\n",
    "plt.show()"
   ],
   "metadata": {
    "collapsed": false,
    "ExecuteTime": {
     "end_time": "2023-11-16T12:14:00.441130Z",
     "start_time": "2023-11-16T12:14:00.152385Z"
    }
   },
   "id": "ba159a3223af7446"
  },
  {
   "cell_type": "code",
   "execution_count": 17,
   "outputs": [
    {
     "name": "stdout",
     "output_type": "stream",
     "text": [
      "4288\n"
     ]
    }
   ],
   "source": [
    "#Вычислим размер нейросети\n",
    "\n",
    "# Исходная архитектура сети\n",
    "n_inputs = 2\n",
    "n_hidden1 = 64\n",
    "n_hidden2 = 64\n",
    "n_outputs = 1\n",
    "\n",
    "# Вычисление количества умножений для исходной архитектуры\n",
    "total_multiplications = (n_inputs * n_hidden1) + (n_hidden1 * n_hidden2) + (n_hidden2 * n_outputs)\n",
    "\n",
    "print(total_multiplications)"
   ],
   "metadata": {
    "collapsed": false,
    "ExecuteTime": {
     "end_time": "2023-11-16T12:14:04.131712Z",
     "start_time": "2023-11-16T12:14:04.125686Z"
    }
   },
   "id": "9f6c47559a79498"
  },
  {
   "cell_type": "code",
   "execution_count": 18,
   "outputs": [],
   "source": [
    "import torch\n",
    "import torch.nn as nn\n",
    "import torch.nn.functional as F\n",
    "import torch.optim as optim\n",
    "\n",
    "# Определение архитектуры модели\n",
    "class CompressedMLP(nn.Module):\n",
    "    def __init__(self):\n",
    "        super(CompressedMLP, self).__init__()\n",
    "        self.fc1 = nn.Linear(2, 32) \n",
    "        self.fc2 = nn.Linear(32, 32) \n",
    "        self.fc3 = nn.Linear(32, 1) \n",
    "\n",
    "    def forward(self, x):\n",
    "        x = F.relu(self.fc1(x))\n",
    "        x = F.relu(self.fc2(x))\n",
    "        x = torch.sigmoid(self.fc3(x)) \n",
    "        return x"
   ],
   "metadata": {
    "collapsed": false,
    "ExecuteTime": {
     "end_time": "2023-11-16T12:14:06.738275Z",
     "start_time": "2023-11-16T12:14:06.730657Z"
    }
   },
   "id": "9d5acf49a270a4f"
  },
  {
   "cell_type": "code",
   "execution_count": 19,
   "outputs": [],
   "source": [
    "Compressed_model = CompressedMLP()"
   ],
   "metadata": {
    "collapsed": false,
    "ExecuteTime": {
     "end_time": "2023-11-16T12:14:22.323237Z",
     "start_time": "2023-11-16T12:14:22.313649Z"
    }
   },
   "id": "4a23c0fdf425da5d"
  },
  {
   "cell_type": "code",
   "execution_count": 20,
   "outputs": [],
   "source": [
    "# Определение функции потерь и оптимизатора\n",
    "criterion2 = nn.BCELoss()  # Binary Cross Entropy Loss\n",
    "optimizer2 = optim.Adam(Compressed_model.parameters(), lr=0.001) #Алгоритм, который будет обновлять наши веса с той степенью небрежности, что указана в learning rate, руководствуясь вычисленными градиентами (механики изменения нашей потери, в результате изменения коэффициента веса)"
   ],
   "metadata": {
    "collapsed": false,
    "ExecuteTime": {
     "end_time": "2023-11-16T12:14:24.359695Z",
     "start_time": "2023-11-16T12:14:24.352839Z"
    }
   },
   "id": "274d55f8e3b8fcc8"
  },
  {
   "cell_type": "code",
   "execution_count": 21,
   "outputs": [
    {
     "name": "stderr",
     "output_type": "stream",
     "text": [
      "Training epochs: 100%|██████████| 500/500 [00:36<00:00, 13.63it/s]\n"
     ]
    }
   ],
   "source": [
    "# Обучение сжатой модели\n",
    "num_epochs = 500  \n",
    "\n",
    "for epoch in tqdm(range(num_epochs), desc='Training epochs'):\n",
    "    for inputs, labels in train_loader:\n",
    "        optimizer2.zero_grad()  \n",
    "        outputs = Compressed_model(inputs)  \n",
    "        loss = criterion2(outputs, labels.view(-1, 1)) \n",
    "        loss.backward()  \n",
    "        optimizer2.step()  "
   ],
   "metadata": {
    "collapsed": false,
    "ExecuteTime": {
     "end_time": "2023-11-16T12:15:03.376291Z",
     "start_time": "2023-11-16T12:14:26.680648Z"
    }
   },
   "id": "d82984dbf49e8821"
  },
  {
   "cell_type": "code",
   "execution_count": 23,
   "outputs": [
    {
     "name": "stdout",
     "output_type": "stream",
     "text": [
      "Validation Loss: 0.0170\n"
     ]
    }
   ],
   "source": [
    "#Валидация уже сжатой модели в виде функции (вызываемого метода)\n",
    "\n",
    "Compressed_model.eval()  # Переключение модели в режим оценки\n",
    "total_val_loss2 = 0\n",
    "total_val_samples2 = 0\n",
    "\n",
    "with torch.no_grad():  # Отключение вычисления градиентов для валидации\n",
    "    for inputs, labels in val_loader:\n",
    "        outputs = Compressed_model(inputs)\n",
    "        val_loss2 = criterion(outputs, labels.view(-1, 1))\n",
    "        total_val_loss2 += val_loss.item() * inputs.size(0)\n",
    "        total_val_samples2 += inputs.size(0)\n",
    "\n",
    "average_val_loss2 = total_val_loss2 / total_val_samples2\n",
    "print(f\"Validation Loss: {average_val_loss2:.4f}\")"
   ],
   "metadata": {
    "collapsed": false,
    "ExecuteTime": {
     "end_time": "2023-11-16T12:16:59.397156Z",
     "start_time": "2023-11-16T12:16:59.377869Z"
    }
   },
   "id": "886564173c63a237"
  },
  {
   "cell_type": "code",
   "execution_count": 25,
   "outputs": [
    {
     "name": "stdout",
     "output_type": "stream",
     "text": [
      "Sensitivity: 0.9979152189020153, Specificity: 0.9825301204819277, p: 0.9902226696919715\n"
     ]
    }
   ],
   "source": [
    "# Теперь мы вычислим предсказания на тестовом наборе данных\n",
    "Compressed_model.eval()  # Переключаем модель в режим оценки\n",
    "with torch.no_grad():  # Отключаем вычисление градиентов\n",
    "    outputs = Compressed_model(X_test_tensor)\n",
    "    predictions = outputs.round()  # Округляем выходные данные для получения бинарных предсказаний\n",
    "\n",
    "# Преобразуем предсказания и истинные метки в формат NumPy для использования в sklearn\n",
    "y_pred_np2 = predictions.numpy()\n",
    "y_test_np2 = y_test_tensor.numpy()\n",
    "\n",
    "import matplotlib.pyplot as plt\n",
    "from sklearn.metrics import confusion_matrix\n",
    "\n",
    "# Вычисляем матрицу ошибок\n",
    "conf_matrix2 = confusion_matrix(y_test_np2, y_pred_np2)\n",
    "TP = conf_matrix2[1, 1]\n",
    "TN = conf_matrix2[0, 0]\n",
    "FP = conf_matrix2[0, 1]\n",
    "FN = conf_matrix2[1, 0]\n",
    "\n",
    "# Вычисляем чувствительность и специфичность\n",
    "sensitivity2 = TP / (TP + FN)\n",
    "specificity2 = TN / (TN + FP)\n",
    "\n",
    "# Вычисляем метрику p\n",
    "p2 = (sensitivity2 + specificity2) / 2\n",
    "print(f\"Sensitivity: {sensitivity2}, Specificity: {specificity2}, p: {p2}\")"
   ],
   "metadata": {
    "collapsed": false,
    "ExecuteTime": {
     "end_time": "2023-11-16T12:19:12.199745Z",
     "start_time": "2023-11-16T12:19:12.163211Z"
    }
   },
   "id": "5471b62d20c95b1f"
  },
  {
   "cell_type": "code",
   "execution_count": 36,
   "outputs": [
    {
     "data": {
      "text/plain": "<Figure size 640x480 with 1 Axes>",
      "image/png": "[encoded data removed]"
     },
     "metadata": {},
     "output_type": "display_data"
    }
   ],
   "source": [
    "import matplotlib.pyplot as plt\n",
    "from sklearn.metrics import confusion_matrix\n",
    "\n",
    "# Предположим, что y_test_np - это истинные метки классов, а y_pred_np - предсказанные моделью\n",
    "conf_matrix2 = confusion_matrix(y_test_np2, y_pred_np2)\n",
    "TP = conf_matrix2[1, 1]\n",
    "FN = conf_matrix2[1, 0]\n",
    "\n",
    "# Создание диаграммы\n",
    "labels = ['True Positive', 'False Negative']\n",
    "values = [TP, FN]\n",
    "\n",
    "plt.bar(labels, values, color=['blue', 'orange'])\n",
    "plt.title('Classification Outcomes for Class 1')\n",
    "plt.xlabel('Outcome')\n",
    "plt.ylabel('Frequency')\n",
    "plt.show()"
   ],
   "metadata": {
    "collapsed": false,
    "ExecuteTime": {
     "end_time": "2023-11-16T12:27:01.180595Z",
     "start_time": "2023-11-16T12:27:01.113402Z"
    }
   },
   "id": "31ba4d500065db1"
  },
  {
   "cell_type": "code",
   "execution_count": 37,
   "outputs": [
    {
     "name": "stdout",
     "output_type": "stream",
     "text": [
      "1120\n"
     ]
    }
   ],
   "source": [
    "#Вычислим размер сжатой нейросети\n",
    "\n",
    "# Исходная архитектура сети\n",
    "n2_inputs = 2\n",
    "n2_hidden1 = 32\n",
    "n2_hidden2 = 32\n",
    "n2_outputs = 1\n",
    "\n",
    "# Вычисление количества умножений для сжатой архитектуры\n",
    "total_multiplications2 = (n2_inputs * n2_hidden1) + (n2_hidden1 * n2_hidden2) + (n2_hidden2 * n2_outputs)\n",
    "\n",
    "print(total_multiplications2)"
   ],
   "metadata": {
    "collapsed": false,
    "ExecuteTime": {
     "end_time": "2023-11-16T12:27:04.886809Z",
     "start_time": "2023-11-16T12:27:04.881022Z"
    }
   },
   "id": "a9fb452dc6a843d"
  },
  {
   "cell_type": "code",
   "execution_count": 46,
   "outputs": [
    {
     "name": "stdout",
     "output_type": "stream",
     "text": [
      "-0.0027\n",
      "3.829\n",
      "0.9902\n"
     ]
    }
   ],
   "source": [
    "compressed_ratio = total_multiplications/total_multiplications2 # во сколько раз уменьшили нейросеть\n",
    "\n",
    "delta_p = p2 - p #изменения в метрике P\n",
    "\n",
    "delta_multiplications = total_multiplications - total_multiplications2\n",
    "\n",
    "delta_p_rounded = round(delta_p, 4)\n",
    "compressed_ratio_rounded = round(compressed_ratio, 3)\n",
    "\n",
    "print(delta_p_rounded)\n",
    "print(compressed_ratio_rounded)\n",
    "\n",
    "p2_rounded = round(p2, 4)\n",
    "print(p2_rounded)"
   ],
   "metadata": {
    "collapsed": false,
    "ExecuteTime": {
     "end_time": "2023-11-16T12:45:07.152289Z",
     "start_time": "2023-11-16T12:45:07.138468Z"
    }
   },
   "id": "ede8e7df5a1ad47a"
  },
  {
   "cell_type": "code",
   "execution_count": 48,
   "outputs": [
    {
     "name": "stdout",
     "output_type": "stream",
     "text": [
      "Нам удалось сжать нейросеть в 3.829 раз буквально не потеряв в точности, наша потеря в метрике P составила -0.0027\n",
      "Первоначальное число нейронов составило 4288, однако мы сократили до 1120, избавившись от 3168 нейронов, максимально приблизившись до пограничной точности равной 0.9902\n"
     ]
    }
   ],
   "source": [
    "print(f'Нам удалось сжать нейросеть в {compressed_ratio_rounded} раз буквально не потеряв в точности, наша потеря в метрике P составила {delta_p_rounded}')\n",
    "\n",
    "print(f'Первоначальное число нейронов составило {total_multiplications}, однако мы сократили до {total_multiplications2}, избавившись от {delta_multiplications} нейронов, максимально приблизившись до пограничной точности равной {p2_rounded}')"
   ],
   "metadata": {
    "collapsed": false,
    "ExecuteTime": {
     "end_time": "2023-11-16T12:46:39.633392Z",
     "start_time": "2023-11-16T12:46:39.610708Z"
    }
   },
   "id": "51e8441ecd09ee66"
  }
 ],
 "metadata": {
  "kernelspec": {
   "display_name": "Python 3",
   "language": "python",
   "name": "python3"
  },
  "language_info": {
   "codemirror_mode": {
    "name": "ipython",
    "version": 2
   },
   "file_extension": ".py",
   "mimetype": "text/x-python",
   "name": "python",
   "nbconvert_exporter": "python",
   "pygments_lexer": "ipython2",
   "version": "2.7.6"
  }
 },
 "nbformat": 4,
 "nbformat_minor": 5
}
